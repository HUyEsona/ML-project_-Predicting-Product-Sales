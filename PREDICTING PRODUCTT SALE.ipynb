{
 "cells": [
  {
   "cell_type": "markdown",
   "metadata": {},
   "source": [
    "# Predicting Product Sales"
   ]
  },
  {
   "cell_type": "markdown",
   "metadata": {},
   "source": [
    "# thêm thư viện\n",
    "\n",
    "\n",
    "- `pandas` (pd): Thư viện để xử lý và phân tích dữ liệu. Dùng để thao tác\n",
    "với các cấu trúc dữ liệu như DataFrame. \n",
    "- `numpy` (np): Thư viện dùng cho các phép toán mảng, tính toán khoa\n",
    "học. \n",
    "- `scikit-learn (sklearn)`: Thư viện phổ biến cho học máy:  \n",
    "- `train_test_split`: Chia dữ liệu thành bộ dữ liệu huấn luyện và kiểm tra. \n",
    "- `cross_val_score`: Đánh giá mô hình bằng phương pháp kiểm tra chéo. \n",
    "- `LabelEncoder`: Biến đổi các dữ liệu phân loại thành các giá trị số. \n",
    "- `StandardScaler`: Tiến hành chuẩn hóa (standardization) các đặc trưng của dữ liệu. \n",
    "- `RandomForestRegressor`: Mô hình học máy Random Forest cho bài toán hồi quy. \n",
    "`mean_squared_error`, `mean_absolute_error`, `r2_score`: Các chỉ số đánh giá hiệu quả mô hình. \n",
    "- `xgboost` (xgb): Một thư viện học máy mạnh mẽ cho các bài toán dự đoán, đặc biệt hiệu quả với dữ liệu lớn. \n",
    "- `statsmodels` (ARIMA): Thư viện dành cho phân tích chuỗi thời gian, trong đó ARIMA là một mô hình phổ biến để dự báo chuỗi thời gian.\n",
    "- `prophet`: Một công cụ dự báo chuỗi thời gian được Facebook phát triển, thường dùng cho dữ liệu có tính mùa vụ hoặc xu hướng. \n",
    "- `surprise`: Thư viện xây dựng các hệ thống đề xuất, sử dụng để dự đoán các sở thích của người dùng. \n",
    "-`Dataset`: Chứa dữ liệu cho các mô hình học máy trong hệ thống đề xuất. \n",
    "-`Reader`: Đọc dữ liệu và chuyển thành định dạng mà thư viện\n",
    "-`Surprise` có thể sử dụng. \n",
    "-`SVD`: Một phương pháp học máy dùng cho hệ thống đề xuất dựa trên phân tích giá trị kỳ vọng (Singular Value Decomposition). \n",
    "- `joblib`: Thư viện lưu và tải mô hình đã được huấn luyện, giúp việc triển khai dễ dàng hơn."
   ]
  },
  {
   "cell_type": "code",
   "execution_count": null,
   "metadata": {},
   "outputs": [],
   "source": [
    "import pandas as pd\n",
    "import numpy as np\n",
    "from sklearn.model_selection import train_test_split\n",
    "from sklearn.preprocessing import LabelEncoder, StandardScaler\n",
    "from sklearn.ensemble import RandomForestRegressor\n",
    "from sklearn.metrics import mean_squared_error, mean_absolute_error\n",
    "import xgboost as xgb\n",
    "from statsmodels.tsa.arima.model import ARIMA\n",
    "from prophet import Prophet\n",
    "import joblib\n",
    "from surprise import Dataset, Reader, SVD\n",
    "from surprise.model_selection import train_test_split as surprise_train_test_split\n"
   ]
  },
  {
   "cell_type": "markdown",
   "metadata": {},
   "source": [
    "# đọc file .csv\n",
    "\n",
    "- Đọc dữ liệu từ tệp CSV vào DataFrame của pandas. Lưu ý thay đổi path file để chạy"
   ]
  },
  {
   "cell_type": "code",
   "execution_count": null,
   "metadata": {},
   "outputs": [],
   "source": [
    "data = pd.read_csv('product_sales_data_large.csv')"
   ]
  },
  {
   "cell_type": "markdown",
   "metadata": {},
   "source": [
    "# step 1: chuyển bị data\n",
    "\n",
    "Xử lý các giá trị bị thiếu và giá trị ngoại lai"
   ]
  },
  {
   "cell_type": "code",
   "execution_count": null,
   "metadata": {},
   "outputs": [],
   "source": [
    "data.fillna(data.mean(numeric_only=True), inplace=True)\n",
    "data = data[data['sales'] > 0]  "
   ]
  },
  {
   "cell_type": "markdown",
   "metadata": {},
   "source": [
    "- `fillna`: Thay thế các giá trị thiếu (NaN) bằng giá trị trung bình của các\n",
    "- `cột số`. · Loại bỏ ngoại lai: Bỏ các dòng dữ liệu có giá trị sales <= 0, vì các giá\n",
    "trị này có thể là dữ liệu sai hoặc không hợp lệ. Chuyển đổi đặc trưng phân loại thành giá trị số"
   ]
  },
  {
   "cell_type": "markdown",
   "metadata": {},
   "source": [
    "Chuyển đổi các tính năng phân loại thành các giá trị số"
   ]
  },
  {
   "cell_type": "code",
   "execution_count": null,
   "metadata": {},
   "outputs": [],
   "source": [
    "le = LabelEncoder()\n",
    "for col in data.select_dtypes(include=['object']).columns:\n",
    "    data[col] = le.fit_transform(data[col])"
   ]
  },
  {
   "cell_type": "markdown",
   "metadata": {},
   "source": [
    "-`LabelEncoder`: Chuyển các cột phân loại (chẳng hạn như tên sản phẩm, loại sản phẩm) thành các giá trị số để mô hình học máy có thể xử lý\n",
    "\n",
    "# step 2:Kỹ thuật tính năng"
   ]
  },
  {
   "cell_type": "code",
   "execution_count": null,
   "metadata": {},
   "outputs": [],
   "source": [
    "data['product_popularity'] = data['number_of_reviews'] * data['average_rating']\n",
    "data['customer_lifetime_value'] = data['purchase_frequency'] * data['price']\n",
    "data['seasonality_factor'] = pd.to_datetime(data['date']).dt.month "
   ]
  },
  {
   "cell_type": "markdown",
   "metadata": {},
   "source": [
    " Tạo các đặc trưng mới: \n",
    "- `product_popularity`: Sự phổ biến của sản phẩm, tính bằng cách nhân số lượng đánh giá và điểm đánh giá trung bình.  \n",
    "- `customer_lifetime_value`: Giá trị khách hàng, tính bằng tần suất mua hàng nhân với giá sản phẩm. \n",
    "- `seasonality_factor`: Yếu tố mùa vụ, được tạo ra từ tháng trong năm, giả định rằng mùa vụ có ảnh hưởng đến doanh số.\n",
    "\n",
    "# step 3: chia rẽ dữ liệu"
   ]
  },
  {
   "cell_type": "code",
   "execution_count": null,
   "metadata": {},
   "outputs": [],
   "source": [
    "X = data.drop(['sales', 'date'], axis=1)\n",
    "y = data['sales']\n",
    "X_train, X_test, y_train, y_test = train_test_split(X, y, test_size=0.2, random_state=42)"
   ]
  },
  {
   "cell_type": "markdown",
   "metadata": {},
   "source": [
    "Chia dữ liệu thành các đặc trưng (X) và biến mục tiêu (sales). \n",
    "- `train_test_split`: Chia dữ liệu thành tập huấn luyện và tập kiểm tra\n",
    "(80% huấn luyện, 20% kiểm tra).\n",
    "\n",
    "\n",
    "Chuẩn hóa các tính năng"
   ]
  },
  {
   "cell_type": "code",
   "execution_count": null,
   "metadata": {},
   "outputs": [],
   "source": [
    "scaler = StandardScaler()\n",
    "X_train = scaler.fit_transform(X_train)\n",
    "X_test = scaler.transform(X_test)"
   ]
  },
  {
   "cell_type": "markdown",
   "metadata": {},
   "source": [
    "- `StandardScaler`: Chuẩn hóa các đặc trưng sao cho giá trị có trung bình bằng 0 và độ lệch chuẩn bằng 1, giúp mô hình học máy hoạt động hiệu quả hơn.\n",
    "\n",
    "# step 4 : mô hình"
   ]
  },
  {
   "cell_type": "markdown",
   "metadata": {},
   "source": [
    "# Random Forest\n"
   ]
  },
  {
   "cell_type": "code",
   "execution_count": null,
   "metadata": {},
   "outputs": [],
   "source": [
    "\n",
    "rf_model = RandomForestRegressor(n_estimators=100, random_state=42)\n",
    "rf_model.fit(X_train, y_train)\n",
    "rf_predictions = rf_model.predict(X_test)"
   ]
  },
  {
   "cell_type": "markdown",
   "metadata": {},
   "source": [
    "- Xây dựng mô hình Random Forest cho bài toán hồi quy, với 100\n",
    "- cây quyết định. \n",
    "\n",
    "`fit`: Huấn luyện mô hình với tập huấn luyện. \n",
    "\n",
    "`predict`: Dự đoán giá trị doanh số cho tập kiểm tra.\n",
    "\n",
    "\n",
    "\n",
    "# Evaluation for Random Forest\n"
   ]
  },
  {
   "cell_type": "code",
   "execution_count": null,
   "metadata": {},
   "outputs": [],
   "source": [
    "rf_mse = mean_squared_error(y_test, rf_predictions)\n",
    "rf_mae = mean_absolute_error(y_test, rf_predictions)\n",
    "print(\"Random Forest - MSE:\", rf_mse, \"MAE:\", rf_mae)"
   ]
  },
  {
   "cell_type": "markdown",
   "metadata": {},
   "source": [
    "`mean_squared_error (MSE)` và `mean_absolute_error (MAE)`: Đo lường độ chính xác của mô hình bằng cách tính toán sai số giữa giá trị thực tế và giá trị dự đoán.\n",
    "\n",
    "# XGBoost\n"
   ]
  },
  {
   "cell_type": "code",
   "execution_count": null,
   "metadata": {},
   "outputs": [],
   "source": [
    "\n",
    "xgb_model = xgb.XGBRegressor(objective='reg:squarederror', n_estimators=100)\n",
    "xgb_model.fit(X_train, y_train)\n",
    "xgb_predictions = xgb_model.predict(X_test)"
   ]
  },
  {
   "cell_type": "markdown",
   "metadata": {},
   "source": [
    "- Tạo mô hình `XGBoost` cho bài toán hồi quy. \n",
    "- `objective='reg:squarederror'`: Chỉ định rằng bài toán là một bài toán hồi quy với sai số bình phương.\n",
    "\n",
    "\n",
    "# Evaluation for XGBoost\n"
   ]
  },
  {
   "cell_type": "code",
   "execution_count": null,
   "metadata": {},
   "outputs": [],
   "source": [
    "xgb_mse = mean_squared_error(y_test, xgb_predictions)\n",
    "xgb_mae = mean_absolute_error(y_test, xgb_predictions)\n",
    "print(\"XGBoost - MSE:\", xgb_mse, \"MAE:\", xgb_mae)"
   ]
  },
  {
   "cell_type": "markdown",
   "metadata": {},
   "source": [
    "- Tương tự như Random Forest, đánh giá XGBoost bằng MSE và MAE."
   ]
  },
  {
   "cell_type": "code",
   "execution_count": null,
   "metadata": {},
   "outputs": [],
   "source": [
    "# Save the best model\n",
    "joblib.dump(xgb_model, 'xgb_model.pkl')"
   ]
  },
  {
   "cell_type": "markdown",
   "metadata": {},
   "source": [
    "- `joblib.dump`: Lưu mô hình XGBoost vào tệp .pkl để sử dụng lại sau này"
   ]
  },
  {
   "cell_type": "markdown",
   "metadata": {},
   "source": [
    "# Step 5: Phân tích chuỗi thời gian\n"
   ]
  },
  {
   "cell_type": "code",
   "execution_count": null,
   "metadata": {},
   "outputs": [],
   "source": [
    "data['date'] = pd.to_datetime(data['date'])\n",
    "data.set_index('date', inplace=True)"
   ]
  },
  {
   "cell_type": "markdown",
   "metadata": {},
   "source": [
    "ARIMA\n"
   ]
  },
  {
   "cell_type": "code",
   "execution_count": null,
   "metadata": {},
   "outputs": [],
   "source": [
    "\n",
    "arima_model = ARIMA(data['sales'], order=(1, 1, 1))\n",
    "arima_results = arima_model.fit()\n",
    "forecast_arima = arima_results.forecast(steps=12)\n",
    "print(\"ARIMA Forecast:\\n\", forecast_arima)"
   ]
  },
  {
   "cell_type": "markdown",
   "metadata": {},
   "source": [
    "- `ARIMA`: Mô hình phân tích chuỗi thời gian, ở đây sử dụng thông số (1, 1, 1) cho phần AR, I và MA. Mô hình này sẽ dự đoán 12 bước tiếp theo (12 tháng).\n",
    "\n",
    "Prophet\n"
   ]
  },
  {
   "cell_type": "code",
   "execution_count": null,
   "metadata": {},
   "outputs": [],
   "source": [
    "\n",
    "prophet_data = data.reset_index().rename(columns={'date': 'ds', 'sales': 'y'})\n",
    "model_prophet = Prophet()\n",
    "model_prophet.fit(prophet_data)\n",
    "future_dates = model_prophet.make_future_dataframe(periods=12, freq='M')\n",
    "forecast_prophet = model_prophet.predict(future_dates)\n",
    "print(\"Prophet Forecast:\\n\", forecast_prophet[['ds', 'yhat']].tail(12))"
   ]
  },
  {
   "cell_type": "markdown",
   "metadata": {},
   "source": [
    "- `Prophet`: Sử dụng Prophet để dự báo doanh số trong tương lai. Chuyển đổi dữ liệu để phù hợp với yêu cầu của Prophet (cột date thành ds và sales thành y).\n",
    "\n",
    "# Step 6: Hệ thống đề xuất"
   ]
  },
  {
   "cell_type": "code",
   "execution_count": null,
   "metadata": {},
   "outputs": [],
   "source": [
    "reader = Reader(rating_scale=(1, 5))\n",
    "df_surprise = pd.DataFrame({\n",
    "    'user_id': data['user_id'],\n",
    "    'product_id': data['product_id'],\n",
    "    'rating': data['average_rating']\n",
    "})\n",
    "data_surprise = Dataset.load_from_df(df_surprise[['user_id', 'product_id', 'rating']], reader)\n",
    "trainset, testset = surprise_train_test_split(data_surprise, test_size=0.2)\n",
    "svd_model = SVD()\n",
    "svd_model.fit(trainset)\n",
    "predictions = svd_model.test(testset)"
   ]
  },
  {
   "cell_type": "markdown",
   "metadata": {},
   "source": [
    "- `Reader và Dataset`: Chuyển đổi dữ liệu thành định dạng mà thư viện Surprise có thể sử dụng cho hệ thống đề xuất. \n",
    "- `surprise_train_test_split`: Chia dữ liệu thành bộ huấn luyện và kiểm tra cho hệ thống đề xuất."
   ]
  },
  {
   "cell_type": "code",
   "execution_count": null,
   "metadata": {},
   "outputs": [],
   "source": [
    "svd_model = SVD()\n",
    "svd_model.fit(trainset)\n",
    "predictions = svd_model.test(testset)"
   ]
  },
  {
   "cell_type": "markdown",
   "metadata": {},
   "source": [
    "- `SVD`: Phương pháp phân tích ma trận để tạo ra một mô hình gợi ý cho người dùng"
   ]
  },
  {
   "cell_type": "code",
   "execution_count": null,
   "metadata": {},
   "outputs": [],
   "source": [
    "from surprise.accuracy import rmse\n",
    "rmse(predictions)\n",
    "\n"
   ]
  },
  {
   "cell_type": "markdown",
   "metadata": {},
   "source": [
    "- `rmse`: Tính toán lỗi căn bậc hai trung bình (Root Mean Squared Error) để đánh giá hiệu quả của hệ thống đề xuất."
   ]
  },
  {
   "cell_type": "code",
   "execution_count": null,
   "metadata": {},
   "outputs": [],
   "source": [
    "# Deployment placeholder\n",
    "print(\"Models are ready for deployment.\")"
   ]
  },
  {
   "cell_type": "markdown",
   "metadata": {},
   "source": [
    "in kết quả"
   ]
  },
  {
   "cell_type": "markdown",
   "metadata": {},
   "source": [
    "source code github: https://github.com/HUyEsona/ML-project_-Predicting-Product-Sales.git"
   ]
  }
 ],
 "metadata": {
  "kernelspec": {
   "display_name": "myvenv",
   "language": "python",
   "name": "python3"
  },
  "language_info": {
   "codemirror_mode": {
    "name": "ipython",
    "version": 3
   },
   "file_extension": ".py",
   "mimetype": "text/x-python",
   "name": "python",
   "nbconvert_exporter": "python",
   "pygments_lexer": "ipython3",
   "version": "3.13.0"
  }
 },
 "nbformat": 4,
 "nbformat_minor": 2
}
